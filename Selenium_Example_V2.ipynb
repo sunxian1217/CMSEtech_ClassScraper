{
 "cells": [
  {
   "cell_type": "markdown",
   "id": "33c77785-63c6-443f-9f37-4b1c02765a4f",
   "metadata": {},
   "source": [
    "# Selenium Example Notebook\n",
    "\n",
    "\n",
    "### Step 1: Set up Selium Driver"
   ]
  },
  {
   "cell_type": "code",
   "execution_count": null,
   "id": "09533fb8-c745-41ae-80bc-53e900a78d6b",
   "metadata": {
    "tags": []
   },
   "outputs": [],
   "source": [
    "from selenium import webdriver\n",
    "from selenium.webdriver import WebDriverWait"
   ]
  },
  {
   "cell_type": "code",
   "execution_count": null,
   "id": "5972cdc5-9516-4e0c-8cf5-4e38e9ecedd8",
   "metadata": {
    "tags": []
   },
   "outputs": [],
   "source": [
    "#Load selinimum and automatically install the Chrome Driver\n",
    "from selenium import webdriver\n",
    "from selenium.webdriver.chrome.options import Options\n",
    "from webdriver_manager.chrome import ChromeDriverManager\n",
    "import time\n",
    "\n",
    "install = ChromeDriverManager().install()\n",
    "install"
   ]
  },
  {
   "cell_type": "code",
   "execution_count": null,
   "id": "c0fc1922",
   "metadata": {
    "tags": []
   },
   "outputs": [],
   "source": [
    "import pandas as pd\n",
    "import re"
   ]
  },
  {
   "cell_type": "code",
   "execution_count": null,
   "id": "a81692c1-feb5-472b-9759-4a8834608e99",
   "metadata": {
    "tags": []
   },
   "outputs": [],
   "source": [
    "#Setup Chrome driver \n",
    "options = Options()\n",
    "#options.add_argument('--headless')\n",
    "driver = webdriver.Chrome(options=options)\n",
    "time.sleep(10)"
   ]
  },
  {
   "cell_type": "markdown",
   "id": "966bd63f-3db7-49f6-885e-8c30a1cc97b2",
   "metadata": {},
   "source": [
    "### Step 2: Call the main Course website for MSU "
   ]
  },
  {
   "cell_type": "code",
   "execution_count": null,
   "id": "427ea647-548e-4fb5-8769-99b3814fe2d5",
   "metadata": {
    "tags": []
   },
   "outputs": [],
   "source": [
    "from bs4 import BeautifulSoup\n",
    "\n",
    "url = \"https://student.msu.edu/psc/public/EMPLOYEE/SA/c/NUI_FRAMEWORK.PT_AGSTARTPAGE_NUI.GBL?CONTEXTIDPARAMS=TEMPLATE_ID%3aPTPPNAVCOL&scname=MSU_AA_SCHEDULE_NEW0&PanelCollapsible=Y\"\n",
    "driver.get(url)\n",
    "time.sleep(20)"
   ]
  },
  {
   "cell_type": "markdown",
   "id": "6b29053e-14a0-42bc-b175-34c183d52875",
   "metadata": {
    "tags": []
   },
   "source": [
    "<a class=\"ps-link\" href=\"\" id=\"SSR_CSTRMPRV_VW_DESCR$3\" onclick=\"javascript:cancelBubble(event);\" ptlinktgt=\"pt_peoplecode\" tabindex=\"-1\">"
   ]
  },
  {
   "cell_type": "markdown",
   "id": "8bd428be-fa9d-4388-94bc-4bbd98c5ccfa",
   "metadata": {},
   "source": [
    "### Step 3: Pick a semester\n",
    "\n",
    "In this example you can try the previous, current or next"
   ]
  },
  {
   "cell_type": "code",
   "execution_count": null,
   "id": "a03c2bfe-6447-49f7-9249-10d0e27f6150",
   "metadata": {
    "tags": []
   },
   "outputs": [],
   "source": [
    "Semester = {'Summer 2020': \"'SSR_CSTRMPRV_VW_DESCR$8'\",\n",
    "            'Fall 2020': \"'SSR_CSTRMPRV_VW_DESCR$span$7'\",\n",
    "            'Spring 21': \"'SSR_CSTRMPRV_VW_DESCR$span$6'\",\n",
    "            'Summer 21': \"'SSR_CSTRMPRV_VW_DESCR$5'\",\n",
    "            'Fall 21': \"'SSR_CSTRMPRV_VW_DESCR$4'\",\n",
    "            'Spring 22': \"'SSR_CSTRMPRV_VW_DESCR$span$3'\",\n",
    "            'Summer 22': \"'SSR_CSTRMPRV_VW_DESCR$2'\",\n",
    "            'Fall 22': \"'SSR_CSTRMPRV_VW_DESCR$1'\",\n",
    "            'Spring 23': \"'SSR_CSTRMPRV_VW_DESCR$0'\",\n",
    "            'Summer 23': \"'SSR_CSTRMCUR_VW_DESCR$0'\", \n",
    "            'Fall 23': \"'SSR_CSTRMCUR_VW_DESCR$1'\",\n",
    "           'Spring 24': \"'SSR_CSTRMCUR_VW_DESCR$2'\",\n",
    "           'Summer 24': \"'SSR_CSTRMCUR_VW_DESCR$3'\"}\n",
    "\n",
    "            \n",
    "url = f\"javascript:submitAction_win0(document.win0,{Semester['Spring 23']});\""
   ]
  },
  {
   "cell_type": "code",
   "execution_count": null,
   "id": "b2a3e45c-8c52-44c3-b7d3-dd8e9168a595",
   "metadata": {
    "tags": []
   },
   "outputs": [],
   "source": [
    "#url = \"javascript:submitAction_win0(document.win0,'SSR_CSTRMPRV_VW_DESCR$3');\"\n",
    "driver.execute_script(url);\n",
    "time.sleep(30)"
   ]
  },
  {
   "cell_type": "code",
   "execution_count": null,
   "id": "c2a99d35",
   "metadata": {},
   "outputs": [],
   "source": [
    "# body = driver.page_source\n",
    "# soup = BeautifulSoup(body, 'html.parser')\n",
    "# soup"
   ]
  },
  {
   "cell_type": "markdown",
   "id": "569e0560-b273-4c63-bcfa-7dc94991477a",
   "metadata": {},
   "source": [
    "#### Step 4: Type in a form value to the Subject element (I had to find the name) and then hit submit!"
   ]
  },
  {
   "cell_type": "code",
   "execution_count": null,
   "id": "410d2fed-b698-45a5-95b4-09c2f04f591b",
   "metadata": {
    "tags": []
   },
   "outputs": [],
   "source": [
    "from selenium.webdriver.common.by import By\n",
    "element = driver.find_element(By.ID, 'MSU_CLSRCH_WRK2_SUBJECT')  \n",
    "element.send_keys(\"CMSE\")\n",
    "# element.get_property('value')"
   ]
  },
  {
   "cell_type": "code",
   "execution_count": null,
   "id": "3ba1d082-9016-4ea2-b23e-3150b68a5341",
   "metadata": {
    "tags": []
   },
   "outputs": [],
   "source": [
    "url = f\"javascript:submitAction_win0(document.win0,'MSU_CLSRCH_WRK_SSR_PB_SEARCH');\"\n",
    "driver.execute_script(url);\n",
    "time.sleep(20)"
   ]
  },
  {
   "cell_type": "code",
   "execution_count": null,
   "id": "69e19307-57ed-4278-a5dc-e684440ea0de",
   "metadata": {
    "tags": []
   },
   "outputs": [],
   "source": [
    "# dir(driver)\n"
   ]
  },
  {
   "cell_type": "code",
   "execution_count": null,
   "id": "dbc503e0-61ba-45a5-a038-2612d88825b5",
   "metadata": {},
   "outputs": [],
   "source": [
    "#body = driver.page_source\n",
    "#soup = BeautifulSoup(body, 'html.parser')\n",
    "#soup\n"
   ]
  },
  {
   "cell_type": "code",
   "execution_count": null,
   "id": "8777c1c3",
   "metadata": {},
   "outputs": [],
   "source": [
    "# element = driver.find_element(By.XPATH, \"//div[contains(@class, 'ps_box-htmlarea psc_label-suppressed psc_label-none psc_label-halignleft')]\")\n",
    "\n",
    "# # Click on the element\n",
    "# element.click()\n",
    "# time.sleep(30)"
   ]
  },
  {
   "cell_type": "code",
   "execution_count": null,
   "id": "9b322c1d-c009-4423-b984-2147775c3235",
   "metadata": {
    "tags": []
   },
   "outputs": [],
   "source": [
    "element = driver.find_element(By.ID, \"DESCR100$0_row_1\") #testing on a single class\n",
    "element.click()"
   ]
  },
  {
   "cell_type": "code",
   "execution_count": null,
   "id": "0edf9c6d-f032-4b24-ac36-d851a6a2121e",
   "metadata": {
    "tags": []
   },
   "outputs": [],
   "source": [
    "# content = driver.execute_script(\"return document.getElementsByTagName('html')[0].innerHTML\")\n",
    "# content"
   ]
  },
  {
   "cell_type": "code",
   "execution_count": null,
   "id": "b728f889-5cda-4dbc-ac1c-4de5606bd726",
   "metadata": {
    "tags": []
   },
   "outputs": [],
   "source": [
    "#time.sleep(20)\n",
    "#cancel_cmd=\"javascript:doUpdateParent(document.win0,'#ICCancel');\"\n",
    "#driver.execute_script(cancel_cmd);\n",
    "body = driver.page_source"
   ]
  },
  {
   "cell_type": "code",
   "execution_count": null,
   "id": "afe6dca8-da85-45e0-9dcf-d39dabe4b192",
   "metadata": {
    "tags": []
   },
   "outputs": [],
   "source": [
    "driver.switch_to.frame(0)\n",
    "framebody = driver.page_source"
   ]
  },
  {
   "cell_type": "code",
   "execution_count": null,
   "id": "6b12f5f6-5b85-4e7e-8f66-a4034f279253",
   "metadata": {
    "tags": []
   },
   "outputs": [],
   "source": []
  },
  {
   "cell_type": "code",
   "execution_count": null,
   "id": "d00304e6-2fa6-47ed-a2a0-373f79c53564",
   "metadata": {
    "tags": []
   },
   "outputs": [],
   "source": [
    "print(framebody)"
   ]
  },
  {
   "cell_type": "code",
   "execution_count": null,
   "id": "48a3471f-bd9c-4ec8-802e-f453a95d00a7",
   "metadata": {
    "tags": []
   },
   "outputs": [],
   "source": [
    "# body\n",
    "# print(driver.find_element_by_xpath(\"html\").get_attribute(\"innerHTML\"))\n"
   ]
  },
  {
   "cell_type": "code",
   "execution_count": null,
   "id": "4c1f5f30-bd74-4945-a7cf-6ec0ddbce831",
   "metadata": {
    "tags": []
   },
   "outputs": [],
   "source": [
    "# driver.print_page()"
   ]
  },
  {
   "cell_type": "markdown",
   "id": "31f231fb-fd3b-497a-86f5-e13ad0ce0f68",
   "metadata": {
    "tags": []
   },
   "source": [
    "# Trying this\n",
    "\n",
    "<https://stackoverflow.com/questions/67746349/selenium-chrome-driver-java-cant-find-element-text-field-by-id>"
   ]
  },
  {
   "cell_type": "code",
   "execution_count": null,
   "id": "5d28f7b8-8c23-4bac-9738-dfb6f26f8570",
   "metadata": {
    "tags": []
   },
   "outputs": [],
   "source": [
    "# print(body)"
   ]
  },
  {
   "cell_type": "code",
   "execution_count": null,
   "id": "92fedc64-8d70-434b-b8e7-1d5d97ea392f",
   "metadata": {
    "tags": []
   },
   "outputs": [],
   "source": [
    "# dir(element)"
   ]
  },
  {
   "cell_type": "code",
   "execution_count": null,
   "id": "bfaebeca-f5ef-4386-aea3-e498d583da64",
   "metadata": {
    "tags": []
   },
   "outputs": [],
   "source": [
    "#body"
   ]
  },
  {
   "cell_type": "code",
   "execution_count": null,
   "id": "3a3ed931-3a6e-49c4-8837-93ca6de5c924",
   "metadata": {
    "tags": []
   },
   "outputs": [],
   "source": [
    "# from IPython.core.display import HTML\n",
    "# HTML(body)"
   ]
  },
  {
   "cell_type": "markdown",
   "id": "c0e8323d-3275-4bc9-a60c-a0f4d2c5664f",
   "metadata": {},
   "source": [
    "# Other Userful Commands"
   ]
  },
  {
   "cell_type": "code",
   "execution_count": null,
   "id": "f019b58d-4f96-47ac-81d2-ed32f4976ac9",
   "metadata": {
    "tags": []
   },
   "outputs": [],
   "source": [
    "#departments = element.text.split('\\n')"
   ]
  },
  {
   "cell_type": "code",
   "execution_count": null,
   "id": "03f4a3c9-cfb3-48da-af6e-ec029aec0054",
   "metadata": {},
   "outputs": [],
   "source": []
  }
 ],
 "metadata": {
  "kernelspec": {
   "display_name": "Python 3 (ipykernel)",
   "language": "python",
   "name": "python3"
  },
  "language_info": {
   "codemirror_mode": {
    "name": "ipython",
    "version": 3
   },
   "file_extension": ".py",
   "mimetype": "text/x-python",
   "name": "python",
   "nbconvert_exporter": "python",
   "pygments_lexer": "ipython3",
   "version": "3.11.4"
  }
 },
 "nbformat": 4,
 "nbformat_minor": 5
}
