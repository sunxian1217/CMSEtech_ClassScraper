{
 "cells": [
  {
   "cell_type": "markdown",
   "id": "836a21c7",
   "metadata": {},
   "source": [
    "## CMSEtech Webscraper"
   ]
  },
  {
   "cell_type": "markdown",
   "id": "2dd54fbc",
   "metadata": {},
   "source": [
    "### Extract CMSE classes information from a local file Using Beautiful Soup"
   ]
  },
  {
   "cell_type": "code",
   "execution_count": null,
   "id": "1dd513b2",
   "metadata": {
    "tags": []
   },
   "outputs": [],
   "source": [
    "from bs4 import BeautifulSoup\n",
    "import pandas as pd\n",
    "import re"
   ]
  },
  {
   "cell_type": "code",
   "execution_count": null,
   "id": "cb4986a3",
   "metadata": {
    "tags": []
   },
   "outputs": [],
   "source": [
    "with open('./SS23_CMSE201.html') as f:\n",
    "    html_doc = f.read()\n",
    "\n",
    "soup = BeautifulSoup(html_doc, 'html.parser')\n",
    "\"\"\"tables = soup.findAll(\"table\", {\"class\": \"ps_grid-flex\"})\n",
    "tab = tables[0]\n",
    "trs = tab.findAll('tr')\"\"\""
   ]
  },
  {
   "cell_type": "code",
   "execution_count": null,
   "id": "a768d919",
   "metadata": {
    "tags": []
   },
   "outputs": [],
   "source": [
    "values = []\n",
    "divs = soup.find_all(\"div\", class_=\"ps-htmlarea\")\n",
    "for div in divs:\n",
    "    val = (div.get_text(strip=True))\n",
    "    values.append(val)\n",
    "values = list(filter(lambda x: x != \"\", values))\n",
    "values.pop(0)\n",
    "values"
   ]
  },
  {
   "cell_type": "code",
   "execution_count": null,
   "id": "3e0b5063",
   "metadata": {
    "tags": []
   },
   "outputs": [],
   "source": [
    "def get_class_info(values):\n",
    "    reshaped_list = [values[i:i+6] for i in range(0, len(values), 6)]\n",
    "\n",
    "    # Create a DataFrame from the reshaped list\n",
    "    col_names = ['Course', 'Type', 'Section', 'Schedule', 'Dates', 'Instructor']\n",
    "    df = pd.DataFrame(reshaped_list, columns=col_names)\n",
    "    df[['Course Code', 'Course Name']] = df['Course'].str.split(':', 1, expand=True)\n",
    "    df[['Type', 'Units']] = df['Type'].str.split('(', 1, expand=True)\n",
    "    df[['Section', 'Class Nbr', 'Academic Session']] = df['Section'].str.split('/', 2, expand=True)\n",
    "    df[['Days', 'Time']] = df['Schedule'].str.split(':', 1, expand=True)\n",
    "    df[['Units','Status']] = df['Units'].str.split(')',1,expand=True)\n",
    "    df[['Subject','Course Number']] = df['Course Code'].str.split(' ',1,expand=True)\n",
    "\n",
    "    df = df.drop(['Course', 'Schedule','Course Code'], axis=1)\n",
    "    df = df[['Subject','Course Number','Course Name','Type','Units','Status','Section','Class Nbr','Academic Session','Days','Time','Dates','Instructor']]\n",
    "    df['Units'] = df['Units'].str.extract(r'(\\d+(?:\\.\\d+)?)')\n",
    "    df['Section'] = df['Section'].str.extract(r'(\\d+(?:\\.\\d+)?)')\n",
    "    df['Class Nbr'] = df['Class Nbr'].str.extract(r'(\\d+(?:\\.\\d+)?)')\n",
    "    return df\n",
    "df = get_class_info(values)\n",
    "df"
   ]
  },
  {
   "cell_type": "code",
   "execution_count": null,
   "id": "d0943ebe",
   "metadata": {},
   "outputs": [],
   "source": []
  }
 ],
 "metadata": {
  "kernelspec": {
   "display_name": "Python 3 (ipykernel)",
   "language": "python",
   "name": "python3"
  },
  "language_info": {
   "codemirror_mode": {
    "name": "ipython",
    "version": 3
   },
   "file_extension": ".py",
   "mimetype": "text/x-python",
   "name": "python",
   "nbconvert_exporter": "python",
   "pygments_lexer": "ipython3",
   "version": "3.11.4"
  }
 },
 "nbformat": 4,
 "nbformat_minor": 5
}
