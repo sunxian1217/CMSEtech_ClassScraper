{
 "cells": [
  {
   "cell_type": "markdown",
   "id": "083197a9-5d49-4804-955e-cbce71ff0cf0",
   "metadata": {},
   "source": [
    "# Example to run the new msucourses API.  \n",
    "\n",
    "This is an attempt to symplify the code to use as an API.  So far I just am including a get classes for an entire department for a single semester. Needs more work but does provide a basic framework.\n"
   ]
  },
  {
   "cell_type": "code",
   "execution_count": null,
   "id": "1be83983-d096-4945-b02d-17abef263565",
   "metadata": {
    "tags": []
   },
   "outputs": [],
   "source": [
    "from msucourses import getclasses"
   ]
  },
  {
   "cell_type": "code",
   "execution_count": null,
   "id": "d8437ed1-e643-4f25-93b7-0273bdeea6c6",
   "metadata": {
    "tags": []
   },
   "outputs": [],
   "source": [
    "df = getclasses.getClassesByDepartment()"
   ]
  },
  {
   "cell_type": "code",
   "execution_count": null,
   "id": "b58bcc07-fe99-4e40-b26e-beffaeb85ec0",
   "metadata": {
    "tags": []
   },
   "outputs": [],
   "source": [
    "df"
   ]
  },
  {
   "cell_type": "code",
   "execution_count": null,
   "id": "18a50cb8-453e-47a6-aebd-5b89e95ec0d5",
   "metadata": {
    "tags": []
   },
   "outputs": [],
   "source": [
    "#TODO Save results to a file so we don't have to keep scrapping to review\n"
   ]
  },
  {
   "cell_type": "code",
   "execution_count": null,
   "id": "7c741934-a37d-4d8b-9ef0-c8916f2d1c4f",
   "metadata": {},
   "outputs": [],
   "source": []
  }
 ],
 "metadata": {
  "kernelspec": {
   "display_name": "Python 3 (ipykernel)",
   "language": "python",
   "name": "python3"
  },
  "language_info": {
   "codemirror_mode": {
    "name": "ipython",
    "version": 3
   },
   "file_extension": ".py",
   "mimetype": "text/x-python",
   "name": "python",
   "nbconvert_exporter": "python",
   "pygments_lexer": "ipython3",
   "version": "3.11.4"
  }
 },
 "nbformat": 4,
 "nbformat_minor": 5
}
